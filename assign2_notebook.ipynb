{
 "cells": [
  {
   "cell_type": "markdown",
   "id": "11202d19",
   "metadata": {},
   "source": [
    "# Exploring Mental Health Data\n",
    "**Objective:** Predict whether an individual suffers from depression based on a set of responses from a mental health survey.\n",
    "\n",
    "**Problem task:** Binary classification on the target variable depression (0 = false, 1 = true)\n",
    "\n",
    "**Dataset source:** Kaggle - Playground Series S4E11\n"
   ]
  },
  {
   "cell_type": "code",
   "execution_count": 1,
   "id": "92346d36",
   "metadata": {
    "ExecuteTime": {
     "end_time": "2025-05-12T14:02:58.277971Z",
     "start_time": "2025-05-12T14:02:57.989171Z"
    }
   },
   "outputs": [
    {
     "name": "stdout",
     "output_type": "stream",
     "text": [
      "   id      Name  Gender   Age           City Working Professional or Student  \\\n",
      "0   0  Aaradhya  Female  49.0       Ludhiana            Working Professional   \n",
      "1   1     Vivan    Male  26.0       Varanasi            Working Professional   \n",
      "2   2    Yuvraj    Male  33.0  Visakhapatnam                         Student   \n",
      "3   3    Yuvraj    Male  22.0         Mumbai            Working Professional   \n",
      "4   4      Rhea  Female  30.0         Kanpur            Working Professional   \n",
      "\n",
      "         Profession  Academic Pressure  Work Pressure  CGPA  \\\n",
      "0              Chef                NaN            5.0   NaN   \n",
      "1           Teacher                NaN            4.0   NaN   \n",
      "2               NaN                5.0            NaN  8.97   \n",
      "3           Teacher                NaN            5.0   NaN   \n",
      "4  Business Analyst                NaN            1.0   NaN   \n",
      "\n",
      "   Study Satisfaction  Job Satisfaction     Sleep Duration Dietary Habits  \\\n",
      "0                 NaN               2.0  More than 8 hours        Healthy   \n",
      "1                 NaN               3.0  Less than 5 hours      Unhealthy   \n",
      "2                 2.0               NaN          5-6 hours        Healthy   \n",
      "3                 NaN               1.0  Less than 5 hours       Moderate   \n",
      "4                 NaN               1.0          5-6 hours      Unhealthy   \n",
      "\n",
      "    Degree Have you ever had suicidal thoughts ?  Work/Study Hours  \\\n",
      "0      BHM                                    No               1.0   \n",
      "1      LLB                                   Yes               7.0   \n",
      "2  B.Pharm                                   Yes               3.0   \n",
      "3      BBA                                   Yes              10.0   \n",
      "4      BBA                                   Yes               9.0   \n",
      "\n",
      "   Financial Stress Family History of Mental Illness  Depression  \n",
      "0               2.0                               No           0  \n",
      "1               3.0                               No           1  \n",
      "2               1.0                               No           1  \n",
      "3               1.0                              Yes           1  \n",
      "4               4.0                              Yes           0  \n"
     ]
    },
    {
     "data": {
      "text/html": [
       "<div>\n",
       "<style scoped>\n",
       "    .dataframe tbody tr th:only-of-type {\n",
       "        vertical-align: middle;\n",
       "    }\n",
       "\n",
       "    .dataframe tbody tr th {\n",
       "        vertical-align: top;\n",
       "    }\n",
       "\n",
       "    .dataframe thead th {\n",
       "        text-align: right;\n",
       "    }\n",
       "</style>\n",
       "<table border=\"1\" class=\"dataframe\">\n",
       "  <thead>\n",
       "    <tr style=\"text-align: right;\">\n",
       "      <th></th>\n",
       "      <th>id</th>\n",
       "      <th>Age</th>\n",
       "      <th>Academic Pressure</th>\n",
       "      <th>Work Pressure</th>\n",
       "      <th>CGPA</th>\n",
       "      <th>Study Satisfaction</th>\n",
       "      <th>Job Satisfaction</th>\n",
       "      <th>Work/Study Hours</th>\n",
       "      <th>Financial Stress</th>\n",
       "      <th>Depression</th>\n",
       "    </tr>\n",
       "  </thead>\n",
       "  <tbody>\n",
       "    <tr>\n",
       "      <th>count</th>\n",
       "      <td>140700.000000</td>\n",
       "      <td>140700.000000</td>\n",
       "      <td>27897.000000</td>\n",
       "      <td>112782.000000</td>\n",
       "      <td>27898.000000</td>\n",
       "      <td>27897.000000</td>\n",
       "      <td>112790.000000</td>\n",
       "      <td>140700.000000</td>\n",
       "      <td>140696.000000</td>\n",
       "      <td>140700.000000</td>\n",
       "    </tr>\n",
       "    <tr>\n",
       "      <th>mean</th>\n",
       "      <td>70349.500000</td>\n",
       "      <td>40.388621</td>\n",
       "      <td>3.142273</td>\n",
       "      <td>2.998998</td>\n",
       "      <td>7.658636</td>\n",
       "      <td>2.944940</td>\n",
       "      <td>2.974404</td>\n",
       "      <td>6.252679</td>\n",
       "      <td>2.988983</td>\n",
       "      <td>0.181713</td>\n",
       "    </tr>\n",
       "    <tr>\n",
       "      <th>std</th>\n",
       "      <td>40616.735775</td>\n",
       "      <td>12.384099</td>\n",
       "      <td>1.380457</td>\n",
       "      <td>1.405771</td>\n",
       "      <td>1.464466</td>\n",
       "      <td>1.360197</td>\n",
       "      <td>1.416078</td>\n",
       "      <td>3.853615</td>\n",
       "      <td>1.413633</td>\n",
       "      <td>0.385609</td>\n",
       "    </tr>\n",
       "    <tr>\n",
       "      <th>min</th>\n",
       "      <td>0.000000</td>\n",
       "      <td>18.000000</td>\n",
       "      <td>1.000000</td>\n",
       "      <td>1.000000</td>\n",
       "      <td>5.030000</td>\n",
       "      <td>1.000000</td>\n",
       "      <td>1.000000</td>\n",
       "      <td>0.000000</td>\n",
       "      <td>1.000000</td>\n",
       "      <td>0.000000</td>\n",
       "    </tr>\n",
       "    <tr>\n",
       "      <th>25%</th>\n",
       "      <td>35174.750000</td>\n",
       "      <td>29.000000</td>\n",
       "      <td>2.000000</td>\n",
       "      <td>2.000000</td>\n",
       "      <td>6.290000</td>\n",
       "      <td>2.000000</td>\n",
       "      <td>2.000000</td>\n",
       "      <td>3.000000</td>\n",
       "      <td>2.000000</td>\n",
       "      <td>0.000000</td>\n",
       "    </tr>\n",
       "    <tr>\n",
       "      <th>50%</th>\n",
       "      <td>70349.500000</td>\n",
       "      <td>42.000000</td>\n",
       "      <td>3.000000</td>\n",
       "      <td>3.000000</td>\n",
       "      <td>7.770000</td>\n",
       "      <td>3.000000</td>\n",
       "      <td>3.000000</td>\n",
       "      <td>6.000000</td>\n",
       "      <td>3.000000</td>\n",
       "      <td>0.000000</td>\n",
       "    </tr>\n",
       "    <tr>\n",
       "      <th>75%</th>\n",
       "      <td>105524.250000</td>\n",
       "      <td>51.000000</td>\n",
       "      <td>4.000000</td>\n",
       "      <td>4.000000</td>\n",
       "      <td>8.920000</td>\n",
       "      <td>4.000000</td>\n",
       "      <td>4.000000</td>\n",
       "      <td>10.000000</td>\n",
       "      <td>4.000000</td>\n",
       "      <td>0.000000</td>\n",
       "    </tr>\n",
       "    <tr>\n",
       "      <th>max</th>\n",
       "      <td>140699.000000</td>\n",
       "      <td>60.000000</td>\n",
       "      <td>5.000000</td>\n",
       "      <td>5.000000</td>\n",
       "      <td>10.000000</td>\n",
       "      <td>5.000000</td>\n",
       "      <td>5.000000</td>\n",
       "      <td>12.000000</td>\n",
       "      <td>5.000000</td>\n",
       "      <td>1.000000</td>\n",
       "    </tr>\n",
       "  </tbody>\n",
       "</table>\n",
       "</div>"
      ],
      "text/plain": [
       "                  id            Age  Academic Pressure  Work Pressure  \\\n",
       "count  140700.000000  140700.000000       27897.000000  112782.000000   \n",
       "mean    70349.500000      40.388621           3.142273       2.998998   \n",
       "std     40616.735775      12.384099           1.380457       1.405771   \n",
       "min         0.000000      18.000000           1.000000       1.000000   \n",
       "25%     35174.750000      29.000000           2.000000       2.000000   \n",
       "50%     70349.500000      42.000000           3.000000       3.000000   \n",
       "75%    105524.250000      51.000000           4.000000       4.000000   \n",
       "max    140699.000000      60.000000           5.000000       5.000000   \n",
       "\n",
       "               CGPA  Study Satisfaction  Job Satisfaction  Work/Study Hours  \\\n",
       "count  27898.000000        27897.000000     112790.000000     140700.000000   \n",
       "mean       7.658636            2.944940          2.974404          6.252679   \n",
       "std        1.464466            1.360197          1.416078          3.853615   \n",
       "min        5.030000            1.000000          1.000000          0.000000   \n",
       "25%        6.290000            2.000000          2.000000          3.000000   \n",
       "50%        7.770000            3.000000          3.000000          6.000000   \n",
       "75%        8.920000            4.000000          4.000000         10.000000   \n",
       "max       10.000000            5.000000          5.000000         12.000000   \n",
       "\n",
       "       Financial Stress     Depression  \n",
       "count     140696.000000  140700.000000  \n",
       "mean           2.988983       0.181713  \n",
       "std            1.413633       0.385609  \n",
       "min            1.000000       0.000000  \n",
       "25%            2.000000       0.000000  \n",
       "50%            3.000000       0.000000  \n",
       "75%            4.000000       0.000000  \n",
       "max            5.000000       1.000000  "
      ]
     },
     "execution_count": 1,
     "metadata": {},
     "output_type": "execute_result"
    }
   ],
   "source": [
    "#Marta path:\n",
    "#Ricardo path:\n",
    "#Sara path:\n",
    "import pandas as pd\n",
    "train_data = pd.read_csv(\"./data/train.csv\")\n",
    "print(train_data.head())\n",
    "train_data.describe()"
   ]
  },
  {
   "cell_type": "code",
   "execution_count": 2,
   "id": "bbd9efd0",
   "metadata": {
    "ExecuteTime": {
     "end_time": "2025-05-12T14:02:58.482581Z",
     "start_time": "2025-05-12T14:02:58.346302Z"
    }
   },
   "outputs": [
    {
     "name": "stdout",
     "output_type": "stream",
     "text": [
      "Number of rows before removing duplicates: 140700\n",
      "Number of rows after removing duplicates: 140700\n",
      "(No dup data found)\n"
     ]
    }
   ],
   "source": [
    "#duplicate removal\n",
    "bf = len(train_data)\n",
    "print(f\"Number of rows before removing duplicates: {len(train_data)}\")\n",
    "train_data = train_data.drop_duplicates()\n",
    "af = len(train_data)\n",
    "print(f\"Number of rows after removing duplicates: {len(train_data)}\")\n",
    "if (bf-af) == 0:\n",
    "    print(\"(No dup data found)\")"
   ]
  },
  {
   "cell_type": "code",
   "execution_count": 3,
   "id": "52b6de5a",
   "metadata": {
    "ExecuteTime": {
     "end_time": "2025-05-12T14:02:58.596244Z",
     "start_time": "2025-05-12T14:02:58.535537Z"
    }
   },
   "outputs": [
    {
     "name": "stdout",
     "output_type": "stream",
     "text": [
      "                    Missing Values  Percent Missing\n",
      "Study Satisfaction          112803        80.172708\n",
      "Academic Pressure           112803        80.172708\n",
      "CGPA                        112802        80.171997\n",
      "Profession                   36630        26.034115\n",
      "Work Pressure                27918        19.842217\n",
      "Job Satisfaction             27910        19.836532\n",
      "Financial Stress                 4         0.002843\n",
      "Dietary Habits                   4         0.002843\n",
      "Degree                           2         0.001421\n",
      "                                       Missing Values  Percent Missing\n",
      "Study Satisfaction                             112803        80.172708\n",
      "Academic Pressure                              112803        80.172708\n",
      "CGPA                                           112802        80.171997\n",
      "Profession                                      36630        26.034115\n",
      "Work Pressure                                   27918        19.842217\n",
      "Job Satisfaction                                27910        19.836532\n",
      "Financial Stress                                    4         0.002843\n",
      "Dietary Habits                                      4         0.002843\n",
      "Degree                                              2         0.001421\n",
      "Gender                                              0         0.000000\n",
      "Name                                                0         0.000000\n",
      "id                                                  0         0.000000\n",
      "Age                                                 0         0.000000\n",
      "City                                                0         0.000000\n",
      "Working Professional or Student                     0         0.000000\n",
      "Sleep Duration                                      0         0.000000\n",
      "Have you ever had suicidal thoughts ?               0         0.000000\n",
      "Work/Study Hours                                    0         0.000000\n",
      "Family History of Mental Illness                    0         0.000000\n",
      "Depression                                          0         0.000000\n"
     ]
    }
   ],
   "source": [
    "#missing value check\n",
    "def missing_value_info(df):\n",
    "    total = df.isnull().sum()\n",
    "    percent = (total / len(df)) * 100\n",
    "    return pd.DataFrame({'Missing Values': total, 'Percent Missing': percent}).sort_values(by='Percent Missing', ascending=False)\n",
    "missing_info_with_0 = missing_value_info(train_data)\n",
    "missing_info = missing_info_with_0[missing_info_with_0['Percent Missing'] > 0.0]\n",
    "print(missing_info)\n",
    "print(missing_info_with_0)\n"
   ]
  },
  {
   "cell_type": "markdown",
   "id": "98b5bd7f",
   "metadata": {},
   "source": [
    "since these columns were spotted for missing values, we want to understand their appearance: how many are missing (NaN count in value_counts), if there unexpected 0s or negative values."
   ]
  },
  {
   "cell_type": "markdown",
   "id": "ecf28ee7",
   "metadata": {},
   "source": [
    "### Data prepp"
   ]
  },
  {
   "cell_type": "code",
   "execution_count": 4,
   "id": "2e037ebc",
   "metadata": {
    "ExecuteTime": {
     "end_time": "2025-05-12T14:02:58.685835Z",
     "start_time": "2025-05-12T14:02:58.658439Z"
    }
   },
   "outputs": [
    {
     "data": {
      "text/plain": [
       "Degree\n",
       "Class 12    14729\n",
       "B.Ed        11691\n",
       "B.Arch       8742\n",
       "B.Com        8113\n",
       "B.Pharm      5856\n",
       "            ...  \n",
       "LCA             1\n",
       "B B.Com         1\n",
       "RCA             1\n",
       "Mihir           1\n",
       "Advait          1\n",
       "Name: count, Length: 116, dtype: int64"
      ]
     },
     "execution_count": 4,
     "metadata": {},
     "output_type": "execute_result"
    }
   ],
   "source": [
    "train_data['Study Satisfaction'].value_counts(dropna=False)\n",
    "train_data['Academic Pressure'].value_counts(dropna=False)\n",
    "train_data['CGPA'].value_counts(dropna=False)\n",
    "train_data['Profession'].value_counts(dropna=False)\n",
    "train_data['Work Pressure'].value_counts(dropna=False)\n",
    "train_data['Job Satisfaction'].value_counts(dropna=False)\n",
    "train_data['Dietary Habits'].value_counts(dropna=False)\n",
    "train_data['Financial Stress'].value_counts(dropna=False)\n",
    "train_data['Degree'].value_counts(dropna=False)\n",
    "#regulated\n",
    "#Comclusion: all our missing vals are NANS\n"
   ]
  },
  {
   "cell_type": "code",
   "execution_count": null,
   "id": "660de5c9",
   "metadata": {
    "ExecuteTime": {
     "end_time": "2025-05-12T14:02:58.823839Z",
     "start_time": "2025-05-12T14:02:58.761838Z"
    }
   },
   "outputs": [
    {
     "data": {
      "text/plain": [
       "Profession\n",
       "other                     37997\n",
       "Teacher                   24906\n",
       "Content Writer             7814\n",
       "Architect                  4370\n",
       "Consultant                 4229\n",
       "HR Manager                 4022\n",
       "Pharmacist                 3893\n",
       "Doctor                     3255\n",
       "Business Analyst           3161\n",
       "Entrepreneur               2968\n",
       "Chemist                    2967\n",
       "Chef                       2862\n",
       "Educational Consultant     2852\n",
       "Data Scientist             2390\n",
       "Researcher                 2328\n",
       "Lawyer                     2212\n",
       "Customer Support           2055\n",
       "Marketing Manager          1976\n",
       "Pilot                      1913\n",
       "Travel Consultant          1860\n",
       "Plumber                    1748\n",
       "Sales Executive            1739\n",
       "Manager                    1737\n",
       "Judge                      1712\n",
       "Electrician                1582\n",
       "Financial Analyst          1574\n",
       "Software Engineer          1510\n",
       "Civil Engineer             1470\n",
       "UX/UI Designer             1452\n",
       "Digital Marketer           1372\n",
       "Accountant                 1339\n",
       "Mechanical Engineer        1177\n",
       "Graphic Designer           1163\n",
       "Research Analyst            690\n",
       "Investment Banker           393\n",
       "Academic                      5\n",
       "Unemployed                    3\n",
       "Family Consultant             1\n",
       "City Manager                  1\n",
       "Medical Doctor                1\n",
       "Analyst                       1\n",
       "Name: count, dtype: int64"
      ]
     },
     "execution_count": 5,
     "metadata": {},
     "output_type": "execute_result"
    }
   ],
   "source": [
    "train_data['Profession'].value_counts(dropna=False)\n",
    "\n",
    "valid_professions = [\n",
    "    \"Teacher\", \"Content Writer\", \"Architect\", \"Consultant\", \"HR Manager\",\n",
    "    \"Pharmacist\", \"Doctor\", \"Business Analyst\", \"Entrepreneur\", \"Chemist\",\n",
    "    \"Chef\", \"Educational Consultant\", \"Data Scientist\", \"Researcher\", \"Lawyer\",\n",
    "    \"Customer Support\", \"Marketing Manager\", \"Pilot\", \"Travel Consultant\",\n",
    "    \"Plumber\", \"Sales Executive\", \"Manager\", \"Judge\", \"Electrician\",\n",
    "    \"Financial Analyst\", \"Software Engineer\", \"Civil Engineer\", \"UX/UI Designer\",\n",
    "    \"Digital Marketer\", \"Accountant\", \"Mechanical Engineer\", \"Graphic Designer\",\n",
    "    \"Research Analyst\", \"Investment Banker\", \"Analyst\", \"Academic\", \"Unemployed\", \"Medical Doctor\", \"City Manager\", \"Family Consultant\"\n",
    "]\n",
    "# we will replace the remainder with na\n",
    "train_data[\"Profession\"] = train_data[\"Profession\"].apply(\n",
    "    lambda x: x if x in valid_professions else \"other\"\n",
    ")\n",
    "#for now i put na. not sure\n",
    "\n",
    "train_data['Profession'].value_counts(dropna=False)\n",
    "\n",
    "# these are names: [\"Yogesh\", \"Pranav\", \"Dev\", \"Yuvraj\"]\n",
    "# these seem to be localities [\"Patna\", \"Visakhapatnam\", \"Nagpur\", \"FamilyVirar\"]\n",
    "# and these ? what are hey ? not jobs. [\"Patna\", \"Visakhapatnam\", \"Nagpur\", \"FamilyVirar\"]\n",
    "#degrees like MBA\n",
    "#substringing"
   ]
  },
  {
   "cell_type": "code",
   "execution_count": 34,
   "id": "92a72413",
   "metadata": {
    "ExecuteTime": {
     "end_time": "2025-05-12T14:02:59.400537Z",
     "start_time": "2025-05-12T14:02:58.906575Z"
    }
   },
   "outputs": [
    {
     "ename": "TypeError",
     "evalue": "float() argument must be a string or a real number, not 'NAType'",
     "output_type": "error",
     "traceback": [
      "\u001b[0;31m---------------------------------------------------------------------------\u001b[0m",
      "\u001b[0;31mTypeError\u001b[0m                                 Traceback (most recent call last)",
      "Cell \u001b[0;32mIn[6], line 56\u001b[0m\n\u001b[1;32m     54\u001b[0m train_data[\u001b[38;5;124m'\u001b[39m\u001b[38;5;124mSleep Duration\u001b[39m\u001b[38;5;124m'\u001b[39m] \u001b[38;5;241m=\u001b[39m normalize_more_less(train_data[\u001b[38;5;124m'\u001b[39m\u001b[38;5;124mSleep Duration\u001b[39m\u001b[38;5;124m'\u001b[39m])\n\u001b[1;32m     55\u001b[0m train_data[\u001b[38;5;124m'\u001b[39m\u001b[38;5;124mSleep Duration\u001b[39m\u001b[38;5;124m'\u001b[39m] \u001b[38;5;241m=\u001b[39m keep_numeric_only(train_data[\u001b[38;5;124m'\u001b[39m\u001b[38;5;124mSleep Duration\u001b[39m\u001b[38;5;124m'\u001b[39m])\n\u001b[0;32m---> 56\u001b[0m train_data[\u001b[38;5;124m'\u001b[39m\u001b[38;5;124mSleep Duration\u001b[39m\u001b[38;5;124m'\u001b[39m] \u001b[38;5;241m=\u001b[39m \u001b[43mnormalize_large_numbers\u001b[49m\u001b[43m(\u001b[49m\u001b[43mtrain_data\u001b[49m\u001b[43m[\u001b[49m\u001b[38;5;124;43m'\u001b[39;49m\u001b[38;5;124;43mSleep Duration\u001b[39;49m\u001b[38;5;124;43m'\u001b[39;49m\u001b[43m]\u001b[49m\u001b[43m)\u001b[49m\n\u001b[1;32m     58\u001b[0m \u001b[38;5;28mprint\u001b[39m(train_data[\u001b[38;5;124m'\u001b[39m\u001b[38;5;124mSleep Duration\u001b[39m\u001b[38;5;124m'\u001b[39m]\u001b[38;5;241m.\u001b[39mvalue_counts())\n",
      "Cell \u001b[0;32mIn[6], line 49\u001b[0m, in \u001b[0;36mnormalize_large_numbers\u001b[0;34m(column)\u001b[0m\n\u001b[1;32m     46\u001b[0m     \u001b[38;5;28;01mexcept\u001b[39;00m \u001b[38;5;167;01mValueError\u001b[39;00m:\n\u001b[1;32m     47\u001b[0m         \u001b[38;5;28;01mreturn\u001b[39;00m pd\u001b[38;5;241m.\u001b[39mNA  \n\u001b[0;32m---> 49\u001b[0m \u001b[38;5;28;01mreturn\u001b[39;00m \u001b[43mcolumn\u001b[49m\u001b[38;5;241;43m.\u001b[39;49m\u001b[43mapply\u001b[49m\u001b[43m(\u001b[49m\u001b[43mprocess_large_number\u001b[49m\u001b[43m)\u001b[49m\n",
      "File \u001b[0;32m~/.local/lib/python3.10/site-packages/pandas/core/series.py:4924\u001b[0m, in \u001b[0;36mSeries.apply\u001b[0;34m(self, func, convert_dtype, args, by_row, **kwargs)\u001b[0m\n\u001b[1;32m   4789\u001b[0m \u001b[38;5;28;01mdef\u001b[39;00m \u001b[38;5;21mapply\u001b[39m(\n\u001b[1;32m   4790\u001b[0m     \u001b[38;5;28mself\u001b[39m,\n\u001b[1;32m   4791\u001b[0m     func: AggFuncType,\n\u001b[0;32m   (...)\u001b[0m\n\u001b[1;32m   4796\u001b[0m     \u001b[38;5;241m*\u001b[39m\u001b[38;5;241m*\u001b[39mkwargs,\n\u001b[1;32m   4797\u001b[0m ) \u001b[38;5;241m-\u001b[39m\u001b[38;5;241m>\u001b[39m DataFrame \u001b[38;5;241m|\u001b[39m Series:\n\u001b[1;32m   4798\u001b[0m \u001b[38;5;250m    \u001b[39m\u001b[38;5;124;03m\"\"\"\u001b[39;00m\n\u001b[1;32m   4799\u001b[0m \u001b[38;5;124;03m    Invoke function on values of Series.\u001b[39;00m\n\u001b[1;32m   4800\u001b[0m \n\u001b[0;32m   (...)\u001b[0m\n\u001b[1;32m   4915\u001b[0m \u001b[38;5;124;03m    dtype: float64\u001b[39;00m\n\u001b[1;32m   4916\u001b[0m \u001b[38;5;124;03m    \"\"\"\u001b[39;00m\n\u001b[1;32m   4917\u001b[0m     \u001b[38;5;28;01mreturn\u001b[39;00m \u001b[43mSeriesApply\u001b[49m\u001b[43m(\u001b[49m\n\u001b[1;32m   4918\u001b[0m \u001b[43m        \u001b[49m\u001b[38;5;28;43mself\u001b[39;49m\u001b[43m,\u001b[49m\n\u001b[1;32m   4919\u001b[0m \u001b[43m        \u001b[49m\u001b[43mfunc\u001b[49m\u001b[43m,\u001b[49m\n\u001b[1;32m   4920\u001b[0m \u001b[43m        \u001b[49m\u001b[43mconvert_dtype\u001b[49m\u001b[38;5;241;43m=\u001b[39;49m\u001b[43mconvert_dtype\u001b[49m\u001b[43m,\u001b[49m\n\u001b[1;32m   4921\u001b[0m \u001b[43m        \u001b[49m\u001b[43mby_row\u001b[49m\u001b[38;5;241;43m=\u001b[39;49m\u001b[43mby_row\u001b[49m\u001b[43m,\u001b[49m\n\u001b[1;32m   4922\u001b[0m \u001b[43m        \u001b[49m\u001b[43margs\u001b[49m\u001b[38;5;241;43m=\u001b[39;49m\u001b[43margs\u001b[49m\u001b[43m,\u001b[49m\n\u001b[1;32m   4923\u001b[0m \u001b[43m        \u001b[49m\u001b[43mkwargs\u001b[49m\u001b[38;5;241;43m=\u001b[39;49m\u001b[43mkwargs\u001b[49m\u001b[43m,\u001b[49m\n\u001b[0;32m-> 4924\u001b[0m \u001b[43m    \u001b[49m\u001b[43m)\u001b[49m\u001b[38;5;241;43m.\u001b[39;49m\u001b[43mapply\u001b[49m\u001b[43m(\u001b[49m\u001b[43m)\u001b[49m\n",
      "File \u001b[0;32m~/.local/lib/python3.10/site-packages/pandas/core/apply.py:1427\u001b[0m, in \u001b[0;36mSeriesApply.apply\u001b[0;34m(self)\u001b[0m\n\u001b[1;32m   1424\u001b[0m     \u001b[38;5;28;01mreturn\u001b[39;00m \u001b[38;5;28mself\u001b[39m\u001b[38;5;241m.\u001b[39mapply_compat()\n\u001b[1;32m   1426\u001b[0m \u001b[38;5;66;03m# self.func is Callable\u001b[39;00m\n\u001b[0;32m-> 1427\u001b[0m \u001b[38;5;28;01mreturn\u001b[39;00m \u001b[38;5;28;43mself\u001b[39;49m\u001b[38;5;241;43m.\u001b[39;49m\u001b[43mapply_standard\u001b[49m\u001b[43m(\u001b[49m\u001b[43m)\u001b[49m\n",
      "File \u001b[0;32m~/.local/lib/python3.10/site-packages/pandas/core/apply.py:1507\u001b[0m, in \u001b[0;36mSeriesApply.apply_standard\u001b[0;34m(self)\u001b[0m\n\u001b[1;32m   1501\u001b[0m \u001b[38;5;66;03m# row-wise access\u001b[39;00m\n\u001b[1;32m   1502\u001b[0m \u001b[38;5;66;03m# apply doesn't have a `na_action` keyword and for backward compat reasons\u001b[39;00m\n\u001b[1;32m   1503\u001b[0m \u001b[38;5;66;03m# we need to give `na_action=\"ignore\"` for categorical data.\u001b[39;00m\n\u001b[1;32m   1504\u001b[0m \u001b[38;5;66;03m# TODO: remove the `na_action=\"ignore\"` when that default has been changed in\u001b[39;00m\n\u001b[1;32m   1505\u001b[0m \u001b[38;5;66;03m#  Categorical (GH51645).\u001b[39;00m\n\u001b[1;32m   1506\u001b[0m action \u001b[38;5;241m=\u001b[39m \u001b[38;5;124m\"\u001b[39m\u001b[38;5;124mignore\u001b[39m\u001b[38;5;124m\"\u001b[39m \u001b[38;5;28;01mif\u001b[39;00m \u001b[38;5;28misinstance\u001b[39m(obj\u001b[38;5;241m.\u001b[39mdtype, CategoricalDtype) \u001b[38;5;28;01melse\u001b[39;00m \u001b[38;5;28;01mNone\u001b[39;00m\n\u001b[0;32m-> 1507\u001b[0m mapped \u001b[38;5;241m=\u001b[39m \u001b[43mobj\u001b[49m\u001b[38;5;241;43m.\u001b[39;49m\u001b[43m_map_values\u001b[49m\u001b[43m(\u001b[49m\n\u001b[1;32m   1508\u001b[0m \u001b[43m    \u001b[49m\u001b[43mmapper\u001b[49m\u001b[38;5;241;43m=\u001b[39;49m\u001b[43mcurried\u001b[49m\u001b[43m,\u001b[49m\u001b[43m \u001b[49m\u001b[43mna_action\u001b[49m\u001b[38;5;241;43m=\u001b[39;49m\u001b[43maction\u001b[49m\u001b[43m,\u001b[49m\u001b[43m \u001b[49m\u001b[43mconvert\u001b[49m\u001b[38;5;241;43m=\u001b[39;49m\u001b[38;5;28;43mself\u001b[39;49m\u001b[38;5;241;43m.\u001b[39;49m\u001b[43mconvert_dtype\u001b[49m\n\u001b[1;32m   1509\u001b[0m \u001b[43m\u001b[49m\u001b[43m)\u001b[49m\n\u001b[1;32m   1511\u001b[0m \u001b[38;5;28;01mif\u001b[39;00m \u001b[38;5;28mlen\u001b[39m(mapped) \u001b[38;5;129;01mand\u001b[39;00m \u001b[38;5;28misinstance\u001b[39m(mapped[\u001b[38;5;241m0\u001b[39m], ABCSeries):\n\u001b[1;32m   1512\u001b[0m     \u001b[38;5;66;03m# GH#43986 Need to do list(mapped) in order to get treated as nested\u001b[39;00m\n\u001b[1;32m   1513\u001b[0m     \u001b[38;5;66;03m#  See also GH#25959 regarding EA support\u001b[39;00m\n\u001b[1;32m   1514\u001b[0m     \u001b[38;5;28;01mreturn\u001b[39;00m obj\u001b[38;5;241m.\u001b[39m_constructor_expanddim(\u001b[38;5;28mlist\u001b[39m(mapped), index\u001b[38;5;241m=\u001b[39mobj\u001b[38;5;241m.\u001b[39mindex)\n",
      "File \u001b[0;32m~/.local/lib/python3.10/site-packages/pandas/core/base.py:921\u001b[0m, in \u001b[0;36mIndexOpsMixin._map_values\u001b[0;34m(self, mapper, na_action, convert)\u001b[0m\n\u001b[1;32m    918\u001b[0m \u001b[38;5;28;01mif\u001b[39;00m \u001b[38;5;28misinstance\u001b[39m(arr, ExtensionArray):\n\u001b[1;32m    919\u001b[0m     \u001b[38;5;28;01mreturn\u001b[39;00m arr\u001b[38;5;241m.\u001b[39mmap(mapper, na_action\u001b[38;5;241m=\u001b[39mna_action)\n\u001b[0;32m--> 921\u001b[0m \u001b[38;5;28;01mreturn\u001b[39;00m \u001b[43malgorithms\u001b[49m\u001b[38;5;241;43m.\u001b[39;49m\u001b[43mmap_array\u001b[49m\u001b[43m(\u001b[49m\u001b[43marr\u001b[49m\u001b[43m,\u001b[49m\u001b[43m \u001b[49m\u001b[43mmapper\u001b[49m\u001b[43m,\u001b[49m\u001b[43m \u001b[49m\u001b[43mna_action\u001b[49m\u001b[38;5;241;43m=\u001b[39;49m\u001b[43mna_action\u001b[49m\u001b[43m,\u001b[49m\u001b[43m \u001b[49m\u001b[43mconvert\u001b[49m\u001b[38;5;241;43m=\u001b[39;49m\u001b[43mconvert\u001b[49m\u001b[43m)\u001b[49m\n",
      "File \u001b[0;32m~/.local/lib/python3.10/site-packages/pandas/core/algorithms.py:1743\u001b[0m, in \u001b[0;36mmap_array\u001b[0;34m(arr, mapper, na_action, convert)\u001b[0m\n\u001b[1;32m   1741\u001b[0m values \u001b[38;5;241m=\u001b[39m arr\u001b[38;5;241m.\u001b[39mastype(\u001b[38;5;28mobject\u001b[39m, copy\u001b[38;5;241m=\u001b[39m\u001b[38;5;28;01mFalse\u001b[39;00m)\n\u001b[1;32m   1742\u001b[0m \u001b[38;5;28;01mif\u001b[39;00m na_action \u001b[38;5;129;01mis\u001b[39;00m \u001b[38;5;28;01mNone\u001b[39;00m:\n\u001b[0;32m-> 1743\u001b[0m     \u001b[38;5;28;01mreturn\u001b[39;00m \u001b[43mlib\u001b[49m\u001b[38;5;241;43m.\u001b[39;49m\u001b[43mmap_infer\u001b[49m\u001b[43m(\u001b[49m\u001b[43mvalues\u001b[49m\u001b[43m,\u001b[49m\u001b[43m \u001b[49m\u001b[43mmapper\u001b[49m\u001b[43m,\u001b[49m\u001b[43m \u001b[49m\u001b[43mconvert\u001b[49m\u001b[38;5;241;43m=\u001b[39;49m\u001b[43mconvert\u001b[49m\u001b[43m)\u001b[49m\n\u001b[1;32m   1744\u001b[0m \u001b[38;5;28;01melse\u001b[39;00m:\n\u001b[1;32m   1745\u001b[0m     \u001b[38;5;28;01mreturn\u001b[39;00m lib\u001b[38;5;241m.\u001b[39mmap_infer_mask(\n\u001b[1;32m   1746\u001b[0m         values, mapper, mask\u001b[38;5;241m=\u001b[39misna(values)\u001b[38;5;241m.\u001b[39mview(np\u001b[38;5;241m.\u001b[39muint8), convert\u001b[38;5;241m=\u001b[39mconvert\n\u001b[1;32m   1747\u001b[0m     )\n",
      "File \u001b[0;32mlib.pyx:2972\u001b[0m, in \u001b[0;36mpandas._libs.lib.map_infer\u001b[0;34m()\u001b[0m\n",
      "Cell \u001b[0;32mIn[6], line 42\u001b[0m, in \u001b[0;36mnormalize_large_numbers.<locals>.process_large_number\u001b[0;34m(value)\u001b[0m\n\u001b[1;32m     40\u001b[0m \u001b[38;5;28;01mdef\u001b[39;00m \u001b[38;5;21mprocess_large_number\u001b[39m(value):\n\u001b[1;32m     41\u001b[0m     \u001b[38;5;28;01mtry\u001b[39;00m:\n\u001b[0;32m---> 42\u001b[0m         value \u001b[38;5;241m=\u001b[39m \u001b[38;5;28;43mfloat\u001b[39;49m\u001b[43m(\u001b[49m\u001b[43mvalue\u001b[49m\u001b[43m)\u001b[49m  \n\u001b[1;32m     43\u001b[0m         \u001b[38;5;28;01mif\u001b[39;00m value \u001b[38;5;241m>\u001b[39m\u001b[38;5;241m=\u001b[39m \u001b[38;5;241m12\u001b[39m:\n\u001b[1;32m     44\u001b[0m             \u001b[38;5;28;01mreturn\u001b[39;00m \u001b[38;5;28mround\u001b[39m(value \u001b[38;5;241m/\u001b[39m \u001b[38;5;241m7\u001b[39m \u001b[38;5;241m*\u001b[39m \u001b[38;5;241m2\u001b[39m) \u001b[38;5;241m/\u001b[39m \u001b[38;5;241m2\u001b[39m\n",
      "\u001b[0;31mTypeError\u001b[0m: float() argument must be a string or a real number, not 'NAType'"
     ]
    }
   ],
   "source": [
    "#train_data['Sleep Duration'].value_counts(dropna=False)#.sort(ascending=True)\n",
    "\n",
    "\n",
    "import re\n",
    "\n",
    "def normalize_ranges(column):\n",
    "    def calculate_average(value):\n",
    "        match = re.match(r\"(\\d+)\\s*-\\s*(\\d+)\", str(value))\n",
    "        if match:\n",
    "            x, y = map(int, match.groups())\n",
    "            return (x + y) / 2 \n",
    "        return value  \n",
    "\n",
    "    return column.apply(calculate_average)\n",
    "\n",
    "def normalize_more_less(column):\n",
    "    def normalize_value(value):\n",
    "        more_match = re.match(r\"More than (\\d+)\", str(value))\n",
    "        if more_match:\n",
    "            x = int(more_match.group(1))\n",
    "            return x + 0.5 \n",
    "\n",
    "        less_match = re.match(r\"Less than (\\d+)\", str(value))\n",
    "        if less_match:\n",
    "            x = int(less_match.group(1))\n",
    "            return x - 0.5  \n",
    "\n",
    "        return value  \n",
    "    return column.apply(normalize_value)\n",
    "def keep_numeric_only(column):\n",
    "    def filter_numeric(value):\n",
    "        try:\n",
    "            return float(value)\n",
    "        except ValueError:\n",
    "            return pd.NA  \n",
    "\n",
    "    return column.apply(filter_numeric)\n",
    "\n",
    "def normalize_large_numbers(column):\n",
    "    def process_large_number(value):\n",
    "        try:\n",
    "            value = float(value)  \n",
    "            if value >= 12:\n",
    "                return round(value / 7 * 2) / 2\n",
    "            return value \n",
    "        except ValueError:\n",
    "            return pd.NA  \n",
    "\n",
    "    return column.apply(process_large_number)\n",
    "\n",
    "\n",
    "train_data['Sleep Duration'] = normalize_ranges(train_data['Sleep Duration'])\n",
    "\n",
    "train_data['Sleep Duration'] = normalize_more_less(train_data['Sleep Duration'])\n",
    "train_data['Sleep Duration'] = keep_numeric_only(train_data['Sleep Duration'])\n",
    "train_data['Sleep Duration'] = normalize_large_numbers(train_data['Sleep Duration'])\n",
    "\n",
    "print(train_data['Sleep Duration'].value_counts())\n",
    "\n"
   ]
  },
  {
   "cell_type": "code",
   "execution_count": 10,
   "id": "5e6d35ec",
   "metadata": {
    "ExecuteTime": {
     "end_time": "2025-05-12T14:02:59.407590647Z",
     "start_time": "2025-05-12T13:59:33.294320Z"
    }
   },
   "outputs": [
    {
     "name": "stdout",
     "output_type": "stream",
     "text": [
      "Dietary Habits\n",
      "Moderate     49705\n",
      "Unhealthy    46227\n",
      "Healthy      44741\n",
      "other           27\n",
      "Name: count, dtype: int64\n"
     ]
    }
   ],
   "source": [
    "valid_dietary = [\"Moderate\", \"Unhealthy\", \"Healthy\"]\n",
    "\n",
    "train_data[\"Dietary Habits\"] = train_data[\"Dietary Habits\"].apply(\n",
    "    lambda x: x if x in valid_dietary else \"other\"\n",
    ")\n",
    "\n",
    "\n",
    "\n",
    "print(train_data['Dietary Habits'].value_counts(dropna = False))"
   ]
  }
 ],
 "metadata": {
  "kernelspec": {
   "display_name": "Python 3",
   "language": "python",
   "name": "python3"
  },
  "language_info": {
   "codemirror_mode": {
    "name": "ipython",
    "version": 3
   },
   "file_extension": ".py",
   "mimetype": "text/x-python",
   "name": "python",
   "nbconvert_exporter": "python",
   "pygments_lexer": "ipython3",
   "version": "3.10.12"
  }
 },
 "nbformat": 4,
 "nbformat_minor": 5
}
